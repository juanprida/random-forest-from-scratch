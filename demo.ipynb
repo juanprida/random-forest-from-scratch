{
 "cells": [
  {
   "cell_type": "markdown",
   "metadata": {},
   "source": [
    "### Initialize notebook"
   ]
  },
  {
   "cell_type": "markdown",
   "metadata": {},
   "source": [
    "#### Imports"
   ]
  },
  {
   "cell_type": "code",
   "execution_count": 31,
   "metadata": {},
   "outputs": [],
   "source": [
    "from decision_tree_classifier import DecisionTreeClassifier\n",
    "from sklearn.datasets import make_classification\n",
    "from sklearn.metrics import accuracy_score\n",
    "import numpy as np"
   ]
  },
  {
   "cell_type": "markdown",
   "metadata": {},
   "source": [
    "#### Get some data"
   ]
  },
  {
   "cell_type": "code",
   "execution_count": 30,
   "metadata": {},
   "outputs": [],
   "source": [
    "# Create synthetic dataset.\n",
    "X, y = make_classification(n_samples=10000)\n",
    "\n",
    "# Split data between train and validation.\n",
    "train_size = int(len(X) * 0.8)\n",
    "X_train, y_train = X[:train_size], y[:train_size]\n",
    "X_val, y_val = X[train_size:], y[train_size:]"
   ]
  },
  {
   "cell_type": "markdown",
   "metadata": {},
   "source": [
    "#### Custom __DecisionTreeClassifier__.\n",
    "\n",
    "- We initialize the class.\n",
    "- Fit the training data.\n",
    "- Compute accuracy score. "
   ]
  },
  {
   "cell_type": "code",
   "execution_count": 34,
   "metadata": {},
   "outputs": [
    {
     "name": "stdout",
     "output_type": "stream",
     "text": [
      "Accuracy score for training data is 1.0 \n",
      " Accuracy score for validation data is 0.8935\n"
     ]
    }
   ],
   "source": [
    "# Initialize class. \n",
    "model = DecisionTreeClassifier(\n",
    "        max_depth = np.inf,\n",
    "        min_samples_split = 2,\n",
    "        min_samples_leaf = 1,\n",
    "        min_impurity_decrease = 0.0,\n",
    ")\n",
    "\n",
    "# Fit.\n",
    "model.fit(X_train, y_train)\n",
    "\n",
    "# Predict.\n",
    "y_train_hat = model.predict(X_train)\n",
    "y_val_hat = model.predict(X_val)\n",
    "\n",
    "# Evaluate.\n",
    "accuracy_train = accuracy_score(y_train, y_train_hat)\n",
    "accuracy_val = accuracy_score(y_val, y_val_hat)\n",
    "\n",
    "print(f\"Accuracy score for training data is {accuracy_train} \\n Accuracy score for validation data is {accuracy_val}\")\n"
   ]
  }
 ],
 "metadata": {
  "kernelspec": {
   "display_name": "Python 3.8.8 ('base')",
   "language": "python",
   "name": "python3"
  },
  "language_info": {
   "codemirror_mode": {
    "name": "ipython",
    "version": 3
   },
   "file_extension": ".py",
   "mimetype": "text/x-python",
   "name": "python",
   "nbconvert_exporter": "python",
   "pygments_lexer": "ipython3",
   "version": "3.8.8"
  },
  "orig_nbformat": 4,
  "vscode": {
   "interpreter": {
    "hash": "34c8409de71f4f7c4cf0d5fe0f549cd4a6baa74feee52e1801ba3d4749f24fab"
   }
  }
 },
 "nbformat": 4,
 "nbformat_minor": 2
}
